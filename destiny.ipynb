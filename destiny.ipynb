{
 "cells": [
  {
   "cell_type": "code",
   "execution_count": null,
   "metadata": {
    "collapsed": false,
    "slideshow": {
     "slide_type": "slide"
    }
   },
   "outputs": [],
   "source": [
    "import MySQLdb as mdb\n",
    "import csv\n",
    "import pandas as pd\n",
    "\n",
    "\n",
    "#configure pandas to show all rows\n",
    "pd.set_option('display.max_rows', 999)\n"
   ]
  },
  {
   "cell_type": "code",
   "execution_count": null,
   "metadata": {
    "collapsed": false,
    "slideshow": {
     "slide_type": "subslide"
    }
   },
   "outputs": [],
   "source": [
    "#load db\n",
    "con = mdb.connect('localhost', 'hlugo', 'pass12345', 'destiny');\n",
    "\n",
    "#create connection\n",
    "with con:\n",
    "    cur = con.cursor()"
   ]
  },
  {
   "cell_type": "markdown",
   "metadata": {
    "slideshow": {
     "slide_type": "slide"
    }
   },
   "source": [
    "# Search for a players clan"
   ]
  },
  {
   "cell_type": "code",
   "execution_count": null,
   "metadata": {
    "collapsed": false,
    "slideshow": {
     "slide_type": "fragment"
    }
   },
   "outputs": [],
   "source": [
    "#Find clan of specific player\n",
    "\n",
    "#ask for Gamer ID\n",
    "gamerSearch = raw_input(\"Enter the Gamer ID of the player you want to find: \")\n",
    "cur.execute(\"select gamerID, Player.clanName, Founder, Size, Motto from Player, Clan WHERE Player.clanName = Clan.clanName AND gamerID = %s\", [gamerSearch]);\n",
    "clanRows = cur.fetchall()\n",
    "\n",
    "\n",
    "\n",
    "#Clan searches\n",
    "dfClan = pd.DataFrame( [[ij for ij in i] for i in clanRows] )\n",
    "dfClan.rename(columns={0: 'Gamer ID', 1: 'Clan Name', 2: 'Clan Founder', 3: 'Clan Size', 4: 'Clan Motto'}, inplace=True)\n",
    "#df = df.sort(['Size'], ascending=[0]);\n",
    "dfClan.head(99)"
   ]
  },
  {
   "cell_type": "code",
   "execution_count": null,
   "metadata": {
    "collapsed": false,
    "scrolled": true,
    "slideshow": {
     "slide_type": "slide"
    }
   },
   "outputs": [],
   "source": [
    "#User input for min/max on light and level\n",
    "minLevel = raw_input(\"What is the minimum level desired? :\")\n",
    "maxLevel = raw_input(\"What is the maximum level desired? :\")\n",
    "minLight = raw_input(\"What is the minimum light desired? :\")\n",
    "maxLight = raw_input(\"What is the maximum light desired? :\")\n",
    "findClass = raw_input(\"What class is desired? :\")\n",
    "#Best equipped characters\n",
    "cur.execute(\"SELECT * FROM charView WHERE (level BETWEEN %s AND %s) AND (light BETWEEN %s AND %s) AND class = %s\", [minLevel, maxLevel, minLight, maxLight, findClass]);\n",
    "#cur.execute(\"select * from pCharacter NATURAL JOIN Player\");\n",
    "rows = cur.fetchall()\n",
    "\n",
    "#Finding players to play with in specific level and light range\n",
    "dfr = pd.DataFrame( [[ij for ij in i] for i in rows] )\n",
    "dfr.rename(columns={0: 'Gamer ID', 1: 'Clan Name', 2: 'Level', 3: 'Race', 4: 'Class', 5: 'Light'}, inplace=True)\n",
    "dfr = dfr.sort_values(by=['Light'], ascending=[0]);\n",
    "dfr.head(99)\n"
   ]
  },
  {
   "cell_type": "code",
   "execution_count": null,
   "metadata": {
    "collapsed": false,
    "slideshow": {
     "slide_type": "slide"
    }
   },
   "outputs": [],
   "source": [
    "#find build of characters from a specific gamer\n",
    "gamerBuild = raw_input(\"Enter the Gamer ID of the player whose build you wish to see: \")\n",
    "cur.execute(\"select class, pName, sName, hName, helmName, gauntletName, chestName, legName from charBuild WHERE gamerID=%s\", [gamerBuild]);\n",
    "gamerBuilds = cur.fetchall()\n",
    "\n",
    "#Player build\n",
    "pBuild = pd.DataFrame( [[ij for ij in i] for i in gamerBuilds] )\n",
    "print 'Build for Player ' + gamerBuild\n",
    "pBuild.rename(columns={0: 'Class', 1: 'Primary', 2: 'Special', 3: 'Heavy', 4: 'Helmet', 5: 'Gauntlet', 6: 'Chest Armor', 7: 'Leg Armor'}, inplace=True)\n",
    "pBuild.head(3)"
   ]
  },
  {
   "cell_type": "code",
   "execution_count": null,
   "metadata": {
    "collapsed": false
   },
   "outputs": [],
   "source": [
    "cur.execute(\"CREATE OR REPLACE VIEW pwStats(gamerID, characterNum, class, pName, pAttack, sName, sAttack, hName, hAttack, helmet, helmDef, gauntlet, gauntDef, chestArmor, chestDef, legArmor, legDef) AS select Player.gamerID, charBuild.characterNum, charBuild.class, charBuild.pName, PrimaryWeapons.attack, charBuild.sName, SpecialWeapons.attack, charBuild.hName, HeavyWeapons.attack, charBuild.helmName, Helmet.def, charBuild.gauntletName, Gauntlets.def, charBuild.chestName, ChestArmor.def, charBuild.legName, LegArmor.def from charBuild, PrimaryWeapons, SpecialWeapons, HeavyWeapons, Helmet, Gauntlets, ChestArmor, LegArmor, Player where charBuild.gamerID=Player.gamerID and charBuild.pName=PrimaryWeapons.pName and charBuild.sName=SpecialWeapons.sName and charBuild.hName=HeavyWeapons.hName and charBuild.helmName=Helmet.helmName and charBuild.gauntletName=Gauntlets.gauntletName and charBuild.chestName=ChestArmor.chestName and charBuild.legName=LegArmor.legName;\")"
   ]
  },
  {
   "cell_type": "code",
   "execution_count": null,
   "metadata": {
    "collapsed": false,
    "scrolled": false
   },
   "outputs": [],
   "source": [
    "#find lowest equipped weapon\n",
    "gamerStat = raw_input(\"Enter Gamer ID: \")\n",
    "cur.execute(\"SELECT characterNum, class, pName, pAttack, sName, sAttack, hName, hAttack from pwStats where gamerID=%s\", [gamerStat])\n",
    "pWeaponStats = cur.fetchall()\n",
    "\n",
    "\n",
    "\n",
    "gs = pd.DataFrame( [[ij for ij in i] for i in pWeaponStats] )\n",
    "gs.rename(columns={0: 'Character#', 1: 'Class', 2: 'Primary', 3:'Primary Attack', 4:'Special', 5:'Special Attack', 6:'Heavy', 7:'Heavy Attack'}, inplace=True)\n",
    "gs.head(10)"
   ]
  },
  {
   "cell_type": "code",
   "execution_count": null,
   "metadata": {
    "collapsed": false
   },
   "outputs": [],
   "source": [
    "#find lowest equipped Armor\n",
    "gamerStatA = raw_input(\"Enter Gamer ID: \")\n",
    "cur.execute(\"SELECT characterNum, class, helmet, helmDef, gauntlet, gauntDef, chestArmor, chestDef, legArmor, legDef from pwStats where gamerID=%s\", [gamerStatA])\n",
    "pArmorStats = cur.fetchall()\n",
    "\n",
    "\n",
    "\n",
    "gsa = pd.DataFrame( [[ij for ij in i] for i in pArmorStats] )\n",
    "gsa.rename(columns={0: 'Character#', 1: 'Class', 2: 'Helmet', 3:'Helmet Defense', 4:'Gauntlet', 5:'Gauntlet Defense', 6:'Chest Armor', 7:'Chest Defense', 8:'Leg Armor', 9: 'Leg Defense'}, inplace=True)\n",
    "gsa.head(10)"
   ]
  },
  {
   "cell_type": "code",
   "execution_count": null,
   "metadata": {
    "collapsed": false
   },
   "outputs": [],
   "source": [
    "cur.execute(\"SELECT pName as Weapon from pwStats where gamerID='wildheck' UNION SELECT sName as Weapon from pwStats where gamerID='wildheck';\")"
   ]
  },
  {
   "cell_type": "code",
   "execution_count": null,
   "metadata": {
    "collapsed": true
   },
   "outputs": [],
   "source": [
    "SELECT characterNum, pName as Weapon, pAttack as Attack from pwStats where gamerID='wildheck' UNION All SELECT characterNum, sName as Weapon, sAttack as Attack from pwStats where gamerID='wildheck' UNION ALL SELECT characterNum, hName as Weapon, hAttack as Attack from pwStats where gamerID='wildheck' order by characterNum;"
   ]
  },
  {
   "cell_type": "code",
   "execution_count": null,
   "metadata": {
    "collapsed": false
   },
   "outputs": [],
   "source": [
    "#find lowest equiped Weapon\n",
    "gamerIDs = raw_input(\"Enter Gamer ID: \")\n",
    "#cNum = raw_input(\"Ender the Gamer's Character#: \")\n",
    "cur.execute(\"CREATE OR REPLACE VIEW spStats AS SELECT characterNum, class, pName as Weapon, pAttack as Attack from pwStats where gamerID=%s UNION All SELECT characterNum, class, sName as Weapon, sAttack as Attack from pwStats where gamerID=%s UNION ALL SELECT characterNum, class, hName as Weapon, hAttack as Attack from pwStats where gamerID=%s\", [gamerIDs, gamerIDs, gamerIDs])\n",
    "cur.execute(\"CREATE OR REPLACE VIEW saStats AS SELECT characterNum, class, helmet as Armor, helmDef as Defense from pwStats where gamerID=%s UNION All SELECT characterNum, class, gauntlet as Armor, gauntDef as Defense from pwStats where gamerID=%s UNION ALL SELECT characterNum, class, chestArmor as Armor, chestDef as Defense from pwStats where gamerID=%s UNION ALL SELECT characterNum, class, legArmor as Armor, legDef as Defense from pwStats where gamerID=%s\", [gamerIDs, gamerIDs, gamerIDs, gamerIDs])\n",
    "\n",
    "cur.execute(\"SELECT spStats.characterNum, spStats.class, spStats.Weapon, min(spStats.Attack), saStats.Armor, min(saStats.Defense) FROM spStats, saStats where spStats.characterNum=1 and saStats.characterNum=1 and Attack=(SELECT min(Attack) from spStats where characterNum=1) and Defense=(SELECT min(Defense) from saStats where characterNum=1)\")\n",
    "gamerStats1 = cur.fetchall()\n",
    "cur.execute(\"SELECT spStats.characterNum, spStats.class, spStats.Weapon, min(spStats.Attack), saStats.Armor, min(saStats.Defense) FROM spStats, saStats where spStats.characterNum=2 and saStats.characterNum=2 and Attack=(SELECT min(Attack) from spStats where characterNum=2) and Defense=(SELECT min(Defense) from saStats where characterNum=2)\")\n",
    "gamerStats2 = cur.fetchall()\n",
    "cur.execute(\"SELECT spStats.characterNum, spStats.class, spStats.Weapon, min(spStats.Attack), saStats.Armor, min(saStats.Defense) FROM spStats, saStats where spStats.characterNum=3 and saStats.characterNum=3 and Attack=(SELECT min(Attack) from spStats where characterNum=3) and Defense=(SELECT min(Defense) from saStats where characterNum=3)\")\n",
    "gamerStats3 = cur.fetchall()\n",
    "\n",
    "tv1 = pd.DataFrame( [[ij for ij in i] for i in gamerStats1] )\n",
    "tv2 = pd.DataFrame( [[ij for ij in i] for i in gamerStats2] )\n",
    "tv3 = pd.DataFrame( [[ij for ij in i] for i in gamerStats3] )\n",
    "frames = [tv1, tv2, tv3]\n",
    "tv = pd.concat(frames)\n",
    "tv.rename(columns={0: 'Character#', 1: 'Class', 2: 'Weakest Weapon', 3: 'Attack', 4: 'Weakest Armor', 5: 'Defense'}, inplace=True)\n",
    "tv.head(10)"
   ]
  },
  {
   "cell_type": "code",
   "execution_count": null,
   "metadata": {
    "collapsed": false
   },
   "outputs": [],
   "source": [
    "#find lowest equipped weapon\n",
    "gamerStat2 = raw_input(\"Enter Gamer ID: \")\n",
    "cur.execute(\"SELECT characterNum, class, LEAST(pAttack, sAttack, hAttack) from pwStats where gamerID=%s\", [gamerStat2])\n",
    "pWeaponStats2 = cur.fetchall()\n",
    "\n",
    "\n",
    "\n",
    "gs2 = pd.DataFrame( [[ij for ij in i] for i in pWeaponStats2] )\n",
    "gs2.rename(columns={0: 'Character#', 1: 'Class', 2: 'Least Effective Weapon'}, inplace=True)\n",
    "gs2.head(10)"
   ]
  },
  {
   "cell_type": "code",
   "execution_count": null,
   "metadata": {
    "collapsed": false,
    "scrolled": false,
    "slideshow": {
     "slide_type": "slide"
    }
   },
   "outputs": [],
   "source": [
    "#find primary\n",
    "pRarity = raw_input(\"What Primary Weapon rarity are you searching for: \")\n",
    "cur.execute(\"SELECT pName, subtype, attack FROM PrimaryWeapons WHERE rarity=%s\", [pRarity])\n",
    "pWeapons = cur.fetchall()\n",
    "\n",
    "\n",
    "\n",
    "pW = pd.DataFrame( [[ij for ij in i] for i in pWeapons] )\n",
    "pW.rename(columns={0: 'Primary Weapon Name', 1: 'Subtype', 2: 'Attack Value'}, inplace=True)\n",
    "pW.head(200)"
   ]
  },
  {
   "cell_type": "code",
   "execution_count": null,
   "metadata": {
    "collapsed": true,
    "slideshow": {
     "slide_type": "subslide"
    }
   },
   "outputs": [],
   "source": [
    "#find special\n",
    "sRarity = raw_input(\"What Special Weapon rarity are you searching for: \")\n",
    "cur.execute(\"SELECT sName, subtype, attack FROM SpecialWeapons WHERE rarity=%s\", [sRarity])\n",
    "sWeapons = cur.fetchall()\n",
    "\n",
    "\n",
    "\n",
    "sW = pd.DataFrame( [[ij for ij in i] for i in sWeapons] )\n",
    "sW.rename(columns={0: 'Speicla Weapon Name', 1: 'Subtype', 2: 'Attack Value'}, inplace=True)\n",
    "sW.head(200)"
   ]
  },
  {
   "cell_type": "code",
   "execution_count": null,
   "metadata": {
    "collapsed": false,
    "slideshow": {
     "slide_type": "subslide"
    }
   },
   "outputs": [],
   "source": [
    "#find primary\n",
    "\n",
    "hRarity = raw_input(\"What Heavy Weapon rarity are you searching for: \")\n",
    "cur.execute(\"SELECT hName, subtype, attack FROM HeavyWeapons WHERE rarity=%s\", [hRarity])\n",
    "hWeapons = cur.fetchall()\n",
    "\n",
    "\n",
    "\n",
    "hW = pd.DataFrame( [[ij for ij in i] for i in hWeapons] )\n",
    "hW.rename(columns={0: 'Heavy Weapon Name', 1: 'Subtype', 2: 'Attack Value'}, inplace=True)\n",
    "hW.head(200)"
   ]
  },
  {
   "cell_type": "code",
   "execution_count": null,
   "metadata": {
    "collapsed": false,
    "slideshow": {
     "slide_type": "slide"
    }
   },
   "outputs": [],
   "source": [
    "# find players quests\n",
    "qGamer = raw_input(\"What Gamer ID are you searching for: \")\n",
    "cur.execute(\"SELECT characterNum, race, class, level, title FROM gamerQuests WHERE gamerID=%s\", [qGamer])\n",
    "quests = cur.fetchall()\n",
    "\n",
    "\n",
    "qg = pd.DataFrame( [[ij for ij in i] for i in quests] )\n",
    "qg.rename(columns={0: 'Character#',1: 'Race', 2: 'Class', 3: 'Level', 4: 'Quests Title' }, inplace=True)\n",
    "qg.head(36)"
   ]
  },
  {
   "cell_type": "code",
   "execution_count": null,
   "metadata": {
    "collapsed": false,
    "slideshow": {
     "slide_type": "subslide"
    }
   },
   "outputs": [],
   "source": [
    "#find players with quest\n",
    "qTitle = raw_input(\"What Quest are you searching for: \")\n",
    "cur.execute(\"SELECT gamerID, class, level FROM gamerQuests WHERE title=%s\", [qTitle])\n",
    "qTitles = cur.fetchall()\n",
    "\n",
    "\n",
    "qt = pd.DataFrame( [[ij for ij in i] for i in qTitles] )\n",
    "qt.rename(columns={0: 'Gamer Name', 1: 'Class', 2: 'Level'}, inplace=True)\n",
    "qt.head(100)"
   ]
  }
 ],
 "metadata": {
  "kernelspec": {
   "display_name": "Python 2",
   "language": "python",
   "name": "python2"
  },
  "language_info": {
   "codemirror_mode": {
    "name": "ipython",
    "version": 2
   },
   "file_extension": ".py",
   "mimetype": "text/x-python",
   "name": "python",
   "nbconvert_exporter": "python",
   "pygments_lexer": "ipython2",
   "version": "2.7.3"
  }
 },
 "nbformat": 4,
 "nbformat_minor": 0
}
