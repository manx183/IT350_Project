{
 "cells": [
  {
   "cell_type": "code",
   "execution_count": 29,
   "metadata": {
    "collapsed": false
   },
   "outputs": [],
   "source": [
    "import MySQLdb as mdb\n",
    "import csv\n",
    "import pandas as pd\n",
    "\n",
    "#configure pandas to show all rows\n",
    "pd.set_option('display.max_rows', 999)"
   ]
  },
  {
   "cell_type": "code",
   "execution_count": 30,
   "metadata": {
    "collapsed": false
   },
   "outputs": [],
   "source": [
    "#load db\n",
    "con = mdb.connect('localhost', 'root', 'pass12345', 'destiny');\n",
    "\n",
    "#create connection\n",
    "with con:\n",
    "    cur = con.cursor()"
   ]
  },
  {
   "cell_type": "code",
   "execution_count": 40,
   "metadata": {
    "collapsed": false
   },
   "outputs": [
    {
     "name": "stdout",
     "output_type": "stream",
     "text": [
      "Enter the Gamer ID of the player you want to find: wildheck\n"
     ]
    },
    {
     "data": {
      "text/html": [
       "<div style=\"max-height:1000px;max-width:1500px;overflow:auto;\">\n",
       "<table border=\"1\" class=\"dataframe\">\n",
       "  <thead>\n",
       "    <tr style=\"text-align: right;\">\n",
       "      <th></th>\n",
       "      <th>Gamer ID</th>\n",
       "      <th>Clan Name</th>\n",
       "      <th>Clan Founder</th>\n",
       "      <th>Clan Size</th>\n",
       "      <th>Clan Motto</th>\n",
       "    </tr>\n",
       "  </thead>\n",
       "  <tbody>\n",
       "    <tr>\n",
       "      <th>0</th>\n",
       "      <td> wildheck</td>\n",
       "      <td> Cresent Night Wolves</td>\n",
       "      <td> wildheck</td>\n",
       "      <td> 6</td>\n",
       "      <td> Never Stop Shooting</td>\n",
       "    </tr>\n",
       "  </tbody>\n",
       "</table>\n",
       "<p>1 rows × 5 columns</p>\n",
       "</div>"
      ],
      "text/plain": [
       "   Gamer ID             Clan Name Clan Founder  Clan Size           Clan Motto\n",
       "0  wildheck  Cresent Night Wolves     wildheck          6  Never Stop Shooting\n",
       "\n",
       "[1 rows x 5 columns]"
      ]
     },
     "execution_count": 40,
     "metadata": {},
     "output_type": "execute_result"
    }
   ],
   "source": [
    "#Find clan of specific player\n",
    "\n",
    "#ask for Gamer ID\n",
    "gamerSearch = raw_input(\"Enter the Gamer ID of the player you want to find: \")\n",
    "cur.execute(\"select gamerID, Player.clanName, Founder, Size, Motto from Player, Clan WHERE Player.clanName = Clan.clanName AND gamerID = %s\", gamerSearch);\n",
    "clanRows = cur.fetchall()\n",
    "\n",
    "\n",
    "\n",
    "#Clan searches\n",
    "dfClan = pd.DataFrame( [[ij for ij in i] for i in clanRows] )\n",
    "dfClan.rename(columns={0: 'Gamer ID', 1: 'Clan Name', 2: 'Clan Founder', 3: 'Clan Size', 4: 'Clan Motto'}, inplace=True)\n",
    "#df = df.sort(['Size'], ascending=[0]);\n",
    "dfClan.head(99)"
   ]
  },
  {
   "cell_type": "code",
   "execution_count": 46,
   "metadata": {
    "collapsed": false
   },
   "outputs": [
    {
     "name": "stdout",
     "output_type": "stream",
     "text": [
      "What is the minimum level desired? :25\n",
      "What is the maximum level desired? :38\n",
      "What is the minimum light desired? :100\n",
      "What is the maximum light desired? :220\n",
      "What class is desired? :Titan\n"
     ]
    }
   ],
   "source": [
    "#User input for min/max on light and level\n",
    "minLevel = raw_input(\"What is the minimum level desired? :\")\n",
    "maxLevel = raw_input(\"What is the maximum level desired? :\")\n",
    "minLight = raw_input(\"What is the minimum light desired? :\")\n",
    "maxLight = raw_input(\"What is the maximum light desired? :\")\n",
    "findClass = raw_input(\"What class is desired? :\")\n",
    "#Best equipped characters\n",
    "cur.execute(\"SELECT * FROM charView WHERE (level BETWEEN %s AND %s) AND (light BETWEEN %s AND %s) AND class = %s\", [minLevel, maxLevel, minLight, maxLight, findClass]);\n",
    "#cur.execute(\"select * from pCharacter NATURAL JOIN Player\");\n",
    "rows = cur.fetchall()"
   ]
  },
  {
   "cell_type": "code",
   "execution_count": 47,
   "metadata": {
    "collapsed": false
   },
   "outputs": [
    {
     "data": {
      "text/html": [
       "<div style=\"max-height:1000px;max-width:1500px;overflow:auto;\">\n",
       "<table border=\"1\" class=\"dataframe\">\n",
       "  <thead>\n",
       "    <tr style=\"text-align: right;\">\n",
       "      <th></th>\n",
       "      <th>Gamer ID</th>\n",
       "      <th>Clan Name</th>\n",
       "      <th>Level</th>\n",
       "      <th>Race</th>\n",
       "      <th>Class</th>\n",
       "      <th>Light</th>\n",
       "    </tr>\n",
       "  </thead>\n",
       "  <tbody>\n",
       "    <tr>\n",
       "      <th>0</th>\n",
       "      <td> M_Deezy</td>\n",
       "      <td> Dads of Destiny</td>\n",
       "      <td> 35</td>\n",
       "      <td> Human</td>\n",
       "      <td> Titan</td>\n",
       "      <td> 191</td>\n",
       "    </tr>\n",
       "  </tbody>\n",
       "</table>\n",
       "<p>1 rows × 6 columns</p>\n",
       "</div>"
      ],
      "text/plain": [
       "  Gamer ID        Clan Name  Level   Race  Class  Light\n",
       "0  M_Deezy  Dads of Destiny     35  Human  Titan    191\n",
       "\n",
       "[1 rows x 6 columns]"
      ]
     },
     "execution_count": 47,
     "metadata": {},
     "output_type": "execute_result"
    }
   ],
   "source": [
    "#Finding players to play with in specific level and light range\n",
    "df = pd.DataFrame( [[ij for ij in i] for i in rows] )\n",
    "df.rename(columns={0: 'Gamer ID', 1: 'Clan Name', 2: 'Level', 3: 'Race', 4: 'Class', 5: 'Light'}, inplace=True)\n",
    "df = df.sort(['Light'], ascending=[0]);\n",
    "df.head(99)"
   ]
  },
  {
   "cell_type": "code",
   "execution_count": null,
   "metadata": {
    "collapsed": true
   },
   "outputs": [],
   "source": []
  }
 ],
 "metadata": {
  "kernelspec": {
   "display_name": "Python 2",
   "language": "python",
   "name": "python2"
  },
  "language_info": {
   "codemirror_mode": {
    "name": "ipython",
    "version": 2
   },
   "file_extension": ".py",
   "mimetype": "text/x-python",
   "name": "python",
   "nbconvert_exporter": "python",
   "pygments_lexer": "ipython2",
   "version": "2.7.6"
  }
 },
 "nbformat": 4,
 "nbformat_minor": 0
}
